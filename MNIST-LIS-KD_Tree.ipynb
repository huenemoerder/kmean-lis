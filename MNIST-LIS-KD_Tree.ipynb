{
 "cells": [
  {
   "cell_type": "code",
   "execution_count": 1,
   "metadata": {},
   "outputs": [
    {
     "name": "stdout",
     "output_type": "stream",
     "text": [
      "Device: cuda:0\n",
      "Image batch dimensions: torch.Size([256, 1, 28, 28])\n",
      "Image label dimensions: torch.Size([256])\n"
     ]
    }
   ],
   "source": [
    "import time\n",
    "import numpy as np\n",
    "import torch\n",
    "import torch.nn.functional as F\n",
    "from torchvision import datasets\n",
    "from torchvision import transforms\n",
    "from torch.utils.data import DataLoader\n",
    "from sklearn.ensemble import AdaBoostClassifier, RandomForestClassifier\n",
    "from sklearn.linear_model import LogisticRegression\n",
    "from sklearn.neural_network import MLPClassifier\n",
    "from sklearn.tree import DecisionTreeClassifier\n",
    "from sklearn.neighbors import KNeighborsClassifier\n",
    "from sklearn.naive_bayes import GaussianNB\n",
    "from sklearn import svm\n",
    "from sklearn.cluster import KMeans\n",
    "from sklearn.neighbors import NearestNeighbors\n",
    "\n",
    "%matplotlib inline\n",
    "import matplotlib.pyplot as plt\n",
    "if torch.cuda.is_available():\n",
    "    torch.backends.cudnn.deterministic = True\n",
    "\n",
    "# Device\n",
    "device = torch.device(\"cuda:0\" if torch.cuda.is_available() else \"cpu\")\n",
    "print('Device:', device)\n",
    "\n",
    "# Hyperparameters\n",
    "random_seed = 123\n",
    "learning_rate = 0.001\n",
    "num_epochs = 10\n",
    "batch_size = 256\n",
    "\n",
    "# Architecture\n",
    "num_features = 784\n",
    "num_hidden_1 = 32\n",
    "\n",
    "train_dataset = datasets.MNIST(root='data', \n",
    "                               train=True, \n",
    "                               transform=transforms.ToTensor(),\n",
    "                               download=True)\n",
    "\n",
    "test_dataset = datasets.MNIST(root='data', \n",
    "                              train=False, \n",
    "                              transform=transforms.ToTensor())\n",
    "\n",
    "\n",
    "train_loader = DataLoader(dataset=train_dataset, \n",
    "                          batch_size=batch_size, \n",
    "                          shuffle=True)\n",
    "\n",
    "test_loader = DataLoader(dataset=test_dataset, \n",
    "                         batch_size=len(test_dataset), \n",
    "                         shuffle=True)\n",
    "\n",
    "# Checking the dataset\n",
    "for images, labels in train_loader:  \n",
    "    print('Image batch dimensions:', images.shape)\n",
    "    print('Image label dimensions:', labels.shape)\n",
    "    break"
   ]
  },
  {
   "cell_type": "code",
   "execution_count": 2,
   "metadata": {},
   "outputs": [],
   "source": [
    "\n",
    "##########################\n",
    "### MODEL\n",
    "##########################\n",
    "\n",
    "class Autoencoder(torch.nn.Module):\n",
    "\n",
    "    def __init__(self, num_features):\n",
    "        super(Autoencoder, self).__init__()\n",
    "        \n",
    "        ### ENCODER\n",
    "        self.linear_1 = torch.nn.Linear(num_features, num_hidden_1)\n",
    "        \n",
    "        ### DECODER\n",
    "        self.linear_2 = torch.nn.Linear(num_hidden_1, num_features)\n",
    "        \n",
    "    def encode(self, X):\n",
    "        encoded = self.linear_1(X)\n",
    "        encoded = F.leaky_relu(encoded)\n",
    "        return encoded\n",
    "    \n",
    "    def decode(self, encoded):\n",
    "        logits = self.linear_2(encoded)\n",
    "        decoded = torch.sigmoid(logits)\n",
    "        return decoded\n",
    "        \n",
    "    def forward(self, X):\n",
    "        encoded = self.encode(X)\n",
    "        decoded = self.decode(encoded)\n",
    "        return decoded\n",
    "\n",
    "    \n",
    "torch.manual_seed(random_seed)\n",
    "model = Autoencoder(num_features=num_features)\n",
    "model = model.to(device)\n",
    "\n",
    "optimizer = torch.optim.Adam(model.parameters(), lr=learning_rate)"
   ]
  },
  {
   "cell_type": "code",
   "execution_count": 3,
   "metadata": {},
   "outputs": [
    {
     "name": "stdout",
     "output_type": "stream",
     "text": [
      "Epoch: 001/010 | Batch 000/235 | Cost: 0.6983\n",
      "Epoch: 001/010 | Batch 050/235 | Cost: 0.3061\n",
      "Epoch: 001/010 | Batch 100/235 | Cost: 0.2516\n",
      "Epoch: 001/010 | Batch 150/235 | Cost: 0.2279\n",
      "Epoch: 001/010 | Batch 200/235 | Cost: 0.2045\n",
      "Time elapsed: 4.68 s\n",
      "Epoch: 002/010 | Batch 000/235 | Cost: 0.2004\n",
      "Epoch: 002/010 | Batch 050/235 | Cost: 0.1915\n",
      "Epoch: 002/010 | Batch 100/235 | Cost: 0.1810\n",
      "Epoch: 002/010 | Batch 150/235 | Cost: 0.1717\n",
      "Epoch: 002/010 | Batch 200/235 | Cost: 0.1621\n",
      "Time elapsed: 9.26 s\n",
      "Epoch: 003/010 | Batch 000/235 | Cost: 0.1607\n",
      "Epoch: 003/010 | Batch 050/235 | Cost: 0.1513\n",
      "Epoch: 003/010 | Batch 100/235 | Cost: 0.1477\n",
      "Epoch: 003/010 | Batch 150/235 | Cost: 0.1432\n",
      "Epoch: 003/010 | Batch 200/235 | Cost: 0.1428\n",
      "Time elapsed: 13.79 s\n",
      "Epoch: 004/010 | Batch 000/235 | Cost: 0.1375\n",
      "Epoch: 004/010 | Batch 050/235 | Cost: 0.1402\n",
      "Epoch: 004/010 | Batch 100/235 | Cost: 0.1340\n",
      "Epoch: 004/010 | Batch 150/235 | Cost: 0.1286\n",
      "Epoch: 004/010 | Batch 200/235 | Cost: 0.1246\n",
      "Time elapsed: 18.39 s\n",
      "Epoch: 005/010 | Batch 000/235 | Cost: 0.1270\n",
      "Epoch: 005/010 | Batch 050/235 | Cost: 0.1237\n",
      "Epoch: 005/010 | Batch 100/235 | Cost: 0.1204\n",
      "Epoch: 005/010 | Batch 150/235 | Cost: 0.1207\n",
      "Epoch: 005/010 | Batch 200/235 | Cost: 0.1180\n",
      "Time elapsed: 23.01 s\n",
      "Epoch: 006/010 | Batch 000/235 | Cost: 0.1149\n",
      "Epoch: 006/010 | Batch 050/235 | Cost: 0.1110\n",
      "Epoch: 006/010 | Batch 100/235 | Cost: 0.1155\n",
      "Epoch: 006/010 | Batch 150/235 | Cost: 0.1105\n",
      "Epoch: 006/010 | Batch 200/235 | Cost: 0.1096\n",
      "Time elapsed: 27.58 s\n",
      "Epoch: 007/010 | Batch 000/235 | Cost: 0.1025\n",
      "Epoch: 007/010 | Batch 050/235 | Cost: 0.1042\n",
      "Epoch: 007/010 | Batch 100/235 | Cost: 0.1038\n",
      "Epoch: 007/010 | Batch 150/235 | Cost: 0.1009\n",
      "Epoch: 007/010 | Batch 200/235 | Cost: 0.1020\n",
      "Time elapsed: 32.10 s\n",
      "Epoch: 008/010 | Batch 000/235 | Cost: 0.1018\n",
      "Epoch: 008/010 | Batch 050/235 | Cost: 0.1006\n",
      "Epoch: 008/010 | Batch 100/235 | Cost: 0.1001\n",
      "Epoch: 008/010 | Batch 150/235 | Cost: 0.0986\n",
      "Epoch: 008/010 | Batch 200/235 | Cost: 0.1023\n",
      "Time elapsed: 36.77 s\n",
      "Epoch: 009/010 | Batch 000/235 | Cost: 0.1030\n",
      "Epoch: 009/010 | Batch 050/235 | Cost: 0.0990\n",
      "Epoch: 009/010 | Batch 100/235 | Cost: 0.0975\n",
      "Epoch: 009/010 | Batch 150/235 | Cost: 0.0959\n",
      "Epoch: 009/010 | Batch 200/235 | Cost: 0.1008\n",
      "Time elapsed: 41.71 s\n",
      "Epoch: 010/010 | Batch 000/235 | Cost: 0.0974\n",
      "Epoch: 010/010 | Batch 050/235 | Cost: 0.0971\n",
      "Epoch: 010/010 | Batch 100/235 | Cost: 0.0971\n",
      "Epoch: 010/010 | Batch 150/235 | Cost: 0.0977\n",
      "Epoch: 010/010 | Batch 200/235 | Cost: 0.0971\n",
      "Time elapsed: 46.17 s\n",
      "Total Training Time: 46.17 s\n"
     ]
    }
   ],
   "source": [
    "start_time = time.time()\n",
    "for epoch in range(num_epochs):\n",
    "    for batch_idx, (features, targets) in enumerate(train_loader):\n",
    "        \n",
    "        features = features.view(-1, 28*28).to(device)\n",
    "            \n",
    "        decoded = model(features)\n",
    "        cost = F.binary_cross_entropy(decoded, features)\n",
    "        optimizer.zero_grad()\n",
    "        \n",
    "        cost.backward()\n",
    "        optimizer.step()\n",
    "\n",
    "        if not batch_idx % 50:\n",
    "            print ('Epoch: %03d/%03d | Batch %03d/%03d | Cost: %.4f' \n",
    "                   %(epoch+1, num_epochs, batch_idx, \n",
    "                     len(train_loader), cost))\n",
    "            \n",
    "    print('Time elapsed: %.2f s' % ((time.time() - start_time)))\n",
    "    \n",
    "print('Total Training Time: %.2f s' % ((time.time() - start_time)))"
   ]
  },
  {
   "cell_type": "code",
   "execution_count": null,
   "metadata": {},
   "outputs": [],
   "source": [
    "n_images = 15\n",
    "image_width = 28\n",
    "\n",
    "fig, axes = plt.subplots(nrows=2, ncols=n_images, \n",
    "                         sharex=True, sharey=True, figsize=(20, 2.5))\n",
    "orig_images = features[:n_images]\n",
    "decoded_images = decoded[:n_images]\n",
    "\n",
    "for i in range(n_images):\n",
    "    for ax, img in zip(axes, [orig_images, decoded_images]):\n",
    "        curr_img = img[i].detach().to(torch.device('cpu'))\n",
    "        ax[i].imshow(curr_img.view((image_width, image_width)), cmap='binary')"
   ]
  },
  {
   "cell_type": "code",
   "execution_count": 5,
   "metadata": {},
   "outputs": [],
   "source": [
    "with torch.no_grad():\n",
    "    full_train_loader = torch.utils.data.DataLoader(\n",
    "        train_dataset, batch_size=len(train_dataset), shuffle=False, num_workers=0\n",
    "    )\n",
    "    for features, _ in full_train_loader:\n",
    "        features = features.view(-1, 28*28).to(device)\n",
    "        encoded = model.encode(features)"
   ]
  },
  {
   "cell_type": "code",
   "execution_count": 6,
   "metadata": {},
   "outputs": [],
   "source": [
    "class BaselineClassifier:\n",
    "    def __init__(self, centers):\n",
    "        self.centers = centers\n",
    "        \n",
    "    def fit(self, X, y):\n",
    "        pass\n",
    "        \n",
    "    def predict(self, X):\n",
    "        y_pred = np.argmin(euclidean_distances(X, self.centers), axis=1)\n",
    "        return y_pred"
   ]
  },
  {
   "cell_type": "code",
   "execution_count": 15,
   "metadata": {},
   "outputs": [],
   "source": [
    "from sklearn.neighbors import KDTree\n",
    "import pandas as pd\n",
    "\n",
    "tree = KDTree(encoded.cpu(), leaf_size=1000)   \n",
    "kd_clustering = pd.DataFrame(tree.get_arrays()[2])\n",
    "clustering = kd_clustering[kd_clustering['is_leaf'] == True][['idx_start', 'idx_end']]\n",
    "label_list = []\n",
    "for c in range(clustering.shape[0]):\n",
    "    row = clustering.iloc[c]\n",
    "    label_list.append(np.full(row[1] - row[0], c))\n",
    "y = np.concatenate(label_list, axis=0)\n",
    "\n",
    "encoded = encoded[tree.get_arrays()[1]]\n",
    "\n",
    "X_clust = np.zeros((60000, 32 + 1))\n",
    "X_clust[:, :-1] = encoded.cpu()\n",
    "X_clust[:, -1] = y\n",
    "\n",
    "centers = pd.DataFrame(X_clust).groupby(32).mean().values\n",
    "# KD_Tree Version\n"
   ]
  },
  {
   "cell_type": "code",
   "execution_count": 16,
   "metadata": {},
   "outputs": [
    {
     "data": {
      "text/plain": [
       "(32, 32)"
      ]
     },
     "execution_count": 16,
     "metadata": {},
     "output_type": "execute_result"
    }
   ],
   "source": [
    "centers.shape"
   ]
  },
  {
   "cell_type": "code",
   "execution_count": 17,
   "metadata": {},
   "outputs": [],
   "source": [
    "base = BaselineClassifier(centers)\n",
    "dct = DecisionTreeClassifier()\n",
    "nb = GaussianNB()\n",
    "linear_svm = svm.SVC(kernel='linear')\n",
    "radial_svm = svm.SVC(kernel='rbf')\n",
    "rf = RandomForestClassifier(max_depth=5, n_estimators=10, max_features=1)\n",
    "mlp = MLPClassifier(hidden_layer_sizes=(150,100,50), activation='relu', solver='adam', max_iter=500)\n",
    "classifiers = [base, nb, dct, rf, linear_svm, radial_svm, mlp]\n",
    "names = ['Base Model', 'Naive Bayes', 'Decision Tree', 'Random Forest','Linear SVM', 'RBF SVM',\n",
    "        'MLP']"
   ]
  },
  {
   "cell_type": "code",
   "execution_count": 18,
   "metadata": {},
   "outputs": [],
   "source": [
    "from sklearn.model_selection import train_test_split\n",
    "from sklearn.metrics import euclidean_distances\n",
    "X_train, X_valid, y_train, y_valid = train_test_split(encoded.cpu(), y, test_size=0.1)"
   ]
  },
  {
   "cell_type": "code",
   "execution_count": 19,
   "metadata": {},
   "outputs": [],
   "source": [
    "from sklearn.metrics import accuracy_score\n",
    "validations = {}\n",
    "for name, clf in zip(names, classifiers):\n",
    "        clf.fit(X_train, y_train)\n",
    "        y_pred_train = clf.predict(X_train)\n",
    "        y_pred_valid = clf.predict(X_valid)\n",
    "        #errors = evaluate(X_index, X_clust, X_query, clf)\n",
    "        train_acc = accuracy_score(y_train, y_pred_train)\n",
    "        #print(f'Train: {train_acc}')\n",
    "        valid_acc = accuracy_score(y_valid, y_pred_valid)\n",
    "        validations[name] = valid_acc\n",
    "        #experiment[f'{name}_mean_error'] = np.mean(errors)\n",
    "        #test_acc = nn_accuracy(errors)\n",
    "        #experiment[f'{name}_test'] = test_acc"
   ]
  },
  {
   "cell_type": "code",
   "execution_count": 20,
   "metadata": {},
   "outputs": [
    {
     "data": {
      "text/html": [
       "<div>\n",
       "<style scoped>\n",
       "    .dataframe tbody tr th:only-of-type {\n",
       "        vertical-align: middle;\n",
       "    }\n",
       "\n",
       "    .dataframe tbody tr th {\n",
       "        vertical-align: top;\n",
       "    }\n",
       "\n",
       "    .dataframe thead th {\n",
       "        text-align: right;\n",
       "    }\n",
       "</style>\n",
       "<table border=\"1\" class=\"dataframe\">\n",
       "  <thead>\n",
       "    <tr style=\"text-align: right;\">\n",
       "      <th></th>\n",
       "      <th>Base Model</th>\n",
       "      <th>Naive Bayes</th>\n",
       "      <th>Decision Tree</th>\n",
       "      <th>Random Forest</th>\n",
       "      <th>Linear SVM</th>\n",
       "      <th>RBF SVM</th>\n",
       "      <th>MLP</th>\n",
       "    </tr>\n",
       "  </thead>\n",
       "  <tbody>\n",
       "    <tr>\n",
       "      <th>0</th>\n",
       "      <td>0.540667</td>\n",
       "      <td>0.614</td>\n",
       "      <td>0.999667</td>\n",
       "      <td>0.461</td>\n",
       "      <td>0.963</td>\n",
       "      <td>0.858833</td>\n",
       "      <td>0.867833</td>\n",
       "    </tr>\n",
       "  </tbody>\n",
       "</table>\n",
       "</div>"
      ],
      "text/plain": [
       "   Base Model  Naive Bayes  Decision Tree  Random Forest  Linear SVM  \\\n",
       "0    0.540667        0.614       0.999667          0.461       0.963   \n",
       "\n",
       "    RBF SVM       MLP  \n",
       "0  0.858833  0.867833  "
      ]
     },
     "execution_count": 20,
     "metadata": {},
     "output_type": "execute_result"
    }
   ],
   "source": [
    "import pandas as pd \n",
    "pd.DataFrame(validations, index=[0])"
   ]
  },
  {
   "cell_type": "code",
   "execution_count": 32,
   "metadata": {},
   "outputs": [],
   "source": [
    "test_encoded = None\n",
    "with torch.no_grad():\n",
    "    for test_features, _ in test_loader:\n",
    "        test_features = test_features.view(-1, 28*28).to(device)\n",
    "        test_encoded = model.linear_1(test_features)\n",
    "        test_encoded = F.leaky_relu(test_encoded)"
   ]
  },
  {
   "cell_type": "code",
   "execution_count": 41,
   "metadata": {},
   "outputs": [
    {
     "data": {
      "text/plain": [
       "torch.Size([10000, 32])"
      ]
     },
     "execution_count": 41,
     "metadata": {},
     "output_type": "execute_result"
    }
   ],
   "source": [
    "X_query = test_encoded.cpu()\n",
    "X_query.shape"
   ]
  },
  {
   "cell_type": "code",
   "execution_count": 42,
   "metadata": {},
   "outputs": [],
   "source": [
    "X_clust = np.zeros((60000, 32 + 1))\n",
    "X_clust[:, :-1] = encoded.cpu()\n",
    "X_clust[:, -1] = y"
   ]
  },
  {
   "cell_type": "code",
   "execution_count": 43,
   "metadata": {},
   "outputs": [],
   "source": [
    "def nn_accuracy(errors):\n",
    "    return (len(errors) - np.count_nonzero(errors)) / len(errors)"
   ]
  },
  {
   "cell_type": "code",
   "execution_count": 44,
   "metadata": {},
   "outputs": [],
   "source": [
    "with torch.no_grad():\n",
    "    nbrs = NearestNeighbors(n_neighbors=1, algorithm='brute').fit(encoded.cpu().numpy())\n",
    "    brute_n = nbrs.kneighbors(X_query.cpu().numpy(), return_distance=False)[:, 0]\n",
    "    brute_nn_enc = encoded[brute_n]\n",
    "    brute_nn = features[brute_n]\n",
    "    #brute_nn.reshape(100, -1)"
   ]
  },
  {
   "cell_type": "code",
   "execution_count": 45,
   "metadata": {},
   "outputs": [],
   "source": [
    "def evaluate(X_index, X_clust, X_query, clf, n_1=None):\n",
    "    global features\n",
    "    n_features = X_index.shape[1]\n",
    "    \n",
    "    #if n_1 == None:\n",
    "    #    nbrs = NearestNeighbors(n_neighbors=1, algorithm='brute').fit(X_index)\n",
    "    #    n_1 = nbrs.kneighbors(X_query, return_distance=False)\n",
    "\n",
    "    found_n = []\n",
    "    errors = []\n",
    "    for i in tqdm(range(0, X_query.shape[0])):\n",
    "        X_found = X_clust[X_clust[:, n_features] == np.asarray(clf.predict(X_query[i].reshape(1, -1)), dtype=np.integer)][:, :n_features]\n",
    "        nbrs_2 = NearestNeighbors(n_neighbors=1, algorithm='brute').fit(X_found)\n",
    "        n_2 = nbrs_2.kneighbors([X_query[i]])[1][0][0]\n",
    "        found_n.append(features[np.where(encoded.cpu().detach().numpy() == X_found[n_2])[0][0]])\n",
    "        error = np.sum(np.abs(X_index[n_1[i]] - X_found[n_2]))\n",
    "        errors.append(error)\n",
    "    return errors, X_index[n_1[i]], found_n\n",
    "\n",
    "def nn_accuracy(errors):\n",
    "    return (len(errors) - np.count_nonzero(errors)) / len(errors)"
   ]
  },
  {
   "cell_type": "code",
   "execution_count": 46,
   "metadata": {},
   "outputs": [
    {
     "data": {
      "application/vnd.jupyter.widget-view+json": {
       "model_id": "8c402e0d5f254107ac4259c5889683dd",
       "version_major": 2,
       "version_minor": 0
      },
      "text/plain": [
       "HBox(children=(FloatProgress(value=0.0, max=7.0), HTML(value='')))"
      ]
     },
     "metadata": {},
     "output_type": "display_data"
    },
    {
     "data": {
      "application/vnd.jupyter.widget-view+json": {
       "model_id": "b3e4ae303f7a4bdc8066a1b28f357dc8",
       "version_major": 2,
       "version_minor": 0
      },
      "text/plain": [
       "HBox(children=(FloatProgress(value=0.0, max=10000.0), HTML(value='')))"
      ]
     },
     "metadata": {},
     "output_type": "display_data"
    },
    {
     "name": "stdout",
     "output_type": "stream",
     "text": [
      "\n"
     ]
    },
    {
     "data": {
      "application/vnd.jupyter.widget-view+json": {
       "model_id": "63bdf520359746ea86f66551f358a773",
       "version_major": 2,
       "version_minor": 0
      },
      "text/plain": [
       "HBox(children=(FloatProgress(value=0.0, max=10000.0), HTML(value='')))"
      ]
     },
     "metadata": {},
     "output_type": "display_data"
    },
    {
     "name": "stdout",
     "output_type": "stream",
     "text": [
      "\n"
     ]
    },
    {
     "data": {
      "application/vnd.jupyter.widget-view+json": {
       "model_id": "e960c2ce294c4025b337db1697d51919",
       "version_major": 2,
       "version_minor": 0
      },
      "text/plain": [
       "HBox(children=(FloatProgress(value=0.0, max=10000.0), HTML(value='')))"
      ]
     },
     "metadata": {},
     "output_type": "display_data"
    },
    {
     "name": "stdout",
     "output_type": "stream",
     "text": [
      "\n"
     ]
    },
    {
     "data": {
      "application/vnd.jupyter.widget-view+json": {
       "model_id": "9290b8c65b3841e9a29b641bd8f4d1b5",
       "version_major": 2,
       "version_minor": 0
      },
      "text/plain": [
       "HBox(children=(FloatProgress(value=0.0, max=10000.0), HTML(value='')))"
      ]
     },
     "metadata": {},
     "output_type": "display_data"
    },
    {
     "name": "stdout",
     "output_type": "stream",
     "text": [
      "\n"
     ]
    },
    {
     "data": {
      "application/vnd.jupyter.widget-view+json": {
       "model_id": "83f3f61acc394811bd1035ce05914623",
       "version_major": 2,
       "version_minor": 0
      },
      "text/plain": [
       "HBox(children=(FloatProgress(value=0.0, max=10000.0), HTML(value='')))"
      ]
     },
     "metadata": {},
     "output_type": "display_data"
    },
    {
     "name": "stdout",
     "output_type": "stream",
     "text": [
      "\n"
     ]
    },
    {
     "data": {
      "application/vnd.jupyter.widget-view+json": {
       "model_id": "c523c4d8e0604f6eaf9268f1fbf442d4",
       "version_major": 2,
       "version_minor": 0
      },
      "text/plain": [
       "HBox(children=(FloatProgress(value=0.0, max=10000.0), HTML(value='')))"
      ]
     },
     "metadata": {},
     "output_type": "display_data"
    },
    {
     "name": "stdout",
     "output_type": "stream",
     "text": [
      "\n"
     ]
    },
    {
     "data": {
      "application/vnd.jupyter.widget-view+json": {
       "model_id": "35d563bc474c4fd8b287f0ef5060c93a",
       "version_major": 2,
       "version_minor": 0
      },
      "text/plain": [
       "HBox(children=(FloatProgress(value=0.0, max=10000.0), HTML(value='')))"
      ]
     },
     "metadata": {},
     "output_type": "display_data"
    },
    {
     "name": "stdout",
     "output_type": "stream",
     "text": [
      "\n",
      "\n"
     ]
    }
   ],
   "source": [
    "results = []\n",
    "\n",
    "from tqdm.notebook import tqdm\n",
    "\n",
    "for c in tqdm(range(len(classifiers))):\n",
    "    result = {}\n",
    "    clf = classifiers[c]\n",
    "    result['Classifier'] = names[c]\n",
    "    errors, _, found_nn = evaluate(encoded.cpu().numpy(), X_clust, X_query.numpy(), clf, brute_n)\n",
    "    result['errors'] = errors\n",
    "    result['Mean Absolute Error'] = np.mean(errors)\n",
    "    result['Accuracy'] = nn_accuracy(errors)\n",
    "    result['brute NN'] = brute_nn\n",
    "    result['found NN'] = found_nn\n",
    "    results.append(result)"
   ]
  },
  {
   "cell_type": "code",
   "execution_count": 47,
   "metadata": {},
   "outputs": [],
   "source": [
    "import pandas as pd\n",
    "\n",
    "results = pd.DataFrame(results, index=range(len(classifiers)))"
   ]
  },
  {
   "cell_type": "code",
   "execution_count": 48,
   "metadata": {},
   "outputs": [
    {
     "data": {
      "text/html": [
       "<div>\n",
       "<style scoped>\n",
       "    .dataframe tbody tr th:only-of-type {\n",
       "        vertical-align: middle;\n",
       "    }\n",
       "\n",
       "    .dataframe tbody tr th {\n",
       "        vertical-align: top;\n",
       "    }\n",
       "\n",
       "    .dataframe thead th {\n",
       "        text-align: right;\n",
       "    }\n",
       "</style>\n",
       "<table border=\"1\" class=\"dataframe\">\n",
       "  <thead>\n",
       "    <tr style=\"text-align: right;\">\n",
       "      <th></th>\n",
       "      <th>Classifier</th>\n",
       "      <th>Mean Absolute Error</th>\n",
       "      <th>Accuracy</th>\n",
       "    </tr>\n",
       "  </thead>\n",
       "  <tbody>\n",
       "    <tr>\n",
       "      <th>0</th>\n",
       "      <td>Base Model</td>\n",
       "      <td>24.866042</td>\n",
       "      <td>0.4974</td>\n",
       "    </tr>\n",
       "    <tr>\n",
       "      <th>1</th>\n",
       "      <td>Naive Bayes</td>\n",
       "      <td>22.728236</td>\n",
       "      <td>0.5409</td>\n",
       "    </tr>\n",
       "    <tr>\n",
       "      <th>2</th>\n",
       "      <td>Decision Tree</td>\n",
       "      <td>19.486638</td>\n",
       "      <td>0.6160</td>\n",
       "    </tr>\n",
       "    <tr>\n",
       "      <th>3</th>\n",
       "      <td>Random Forest</td>\n",
       "      <td>33.124460</td>\n",
       "      <td>0.4066</td>\n",
       "    </tr>\n",
       "    <tr>\n",
       "      <th>4</th>\n",
       "      <td>Linear SVM</td>\n",
       "      <td>19.481856</td>\n",
       "      <td>0.6165</td>\n",
       "    </tr>\n",
       "    <tr>\n",
       "      <th>5</th>\n",
       "      <td>RBF SVM</td>\n",
       "      <td>18.128367</td>\n",
       "      <td>0.6388</td>\n",
       "    </tr>\n",
       "    <tr>\n",
       "      <th>6</th>\n",
       "      <td>MLP</td>\n",
       "      <td>20.321570</td>\n",
       "      <td>0.5994</td>\n",
       "    </tr>\n",
       "  </tbody>\n",
       "</table>\n",
       "</div>"
      ],
      "text/plain": [
       "      Classifier  Mean Absolute Error  Accuracy\n",
       "0     Base Model            24.866042    0.4974\n",
       "1    Naive Bayes            22.728236    0.5409\n",
       "2  Decision Tree            19.486638    0.6160\n",
       "3  Random Forest            33.124460    0.4066\n",
       "4     Linear SVM            19.481856    0.6165\n",
       "5        RBF SVM            18.128367    0.6388\n",
       "6            MLP            20.321570    0.5994"
      ]
     },
     "execution_count": 48,
     "metadata": {},
     "output_type": "execute_result"
    }
   ],
   "source": [
    "results[['Classifier', 'Mean Absolute Error', 'Accuracy']]"
   ]
  },
  {
   "cell_type": "code",
   "execution_count": 160,
   "metadata": {},
   "outputs": [],
   "source": [
    "with torch.no_grad():\n",
    "    #img_svm_nn = model.decode(torch.Tensor(np.stack(results.loc[6, 'found NN'])).cuda()).detach().cpu().numpy()\n",
    "    img_svm_nn = torch.stack(results.loc[6, 'found NN']).detach().cpu().numpy()"
   ]
  },
  {
   "cell_type": "code",
   "execution_count": 108,
   "metadata": {},
   "outputs": [
    {
     "name": "stdout",
     "output_type": "stream",
     "text": [
      "[ 4.9624257  6.9231334 12.220724  12.776499   3.482287   6.0673056\n",
      " 17.68702    2.3788388  5.919568   3.379711   3.2773447 18.906342\n",
      "  7.11814    3.0675583  5.8250337 34.07599    7.678896   2.5562577\n",
      "  1.8124633  9.454148   5.164131   5.017939   3.0488997  6.0645347\n",
      "  6.034732   7.915081   6.8062534  5.1524234  3.7943997 11.822495\n",
      "  9.676598  14.183282 ]\n"
     ]
    }
   ],
   "source": [
    "with torch.no_grad():\n",
    "    print(model.encode(test_features[1]).detach().cpu().numpy())"
   ]
  },
  {
   "cell_type": "code",
   "execution_count": 109,
   "metadata": {},
   "outputs": [
    {
     "name": "stdout",
     "output_type": "stream",
     "text": [
      "tensor([ 4.8975,  7.2078, 14.4794, 11.7908,  6.4426,  6.5339, 20.8515,  4.0543,\n",
      "         8.1024,  5.1218,  3.0008, 17.3084,  7.9976,  4.3863,  5.7193, 34.7612,\n",
      "         8.3218,  6.3685,  0.1977, 10.2799,  5.5994,  4.2349,  3.0225,  5.0412,\n",
      "         7.6040,  5.7842,  3.7101,  5.1338,  2.0018, 12.5657, 11.9440, 14.9037],\n",
      "       device='cuda:0')\n"
     ]
    }
   ],
   "source": [
    "print(brute_nn_enc[1])"
   ]
  },
  {
   "cell_type": "code",
   "execution_count": 110,
   "metadata": {},
   "outputs": [
    {
     "name": "stdout",
     "output_type": "stream",
     "text": [
      "[ 4.8974667   7.207809   14.479401   11.790789    6.4425716   6.5338573\n",
      " 20.851456    4.0542994   8.102427    5.1217546   3.0007815  17.308437\n",
      "  7.9975805   4.3863106   5.7192974  34.761185    8.321768    6.3685184\n",
      "  0.19768721 10.279924    5.599354    4.2348614   3.0225358   5.0411673\n",
      "  7.6040497   5.7842264   3.710092    5.1338444   2.0017858  12.565742\n",
      " 11.943976   14.903715  ]\n"
     ]
    }
   ],
   "source": [
    "with torch.no_grad():\n",
    "    print(model.encode(brute_nn.reshape(100, -1)[1]).detach().cpu().numpy())"
   ]
  },
  {
   "cell_type": "code",
   "execution_count": 120,
   "metadata": {},
   "outputs": [
    {
     "data": {
      "text/plain": [
       "array([ 5.17773914,  5.48069239, 11.68958092, 11.67155647,  3.92955089,\n",
       "        5.86740732, 13.8656435 ,  5.93747187,  3.38943291,  2.61477852,\n",
       "        2.15362549, 16.66974258,  4.80136251,  5.45294189,  6.30379677,\n",
       "       33.1270256 ,  9.40053844,  6.99830246,  1.55172443,  9.03614044,\n",
       "        5.50749111,  3.28481674,  2.54362035,  6.00635386,  6.13347912,\n",
       "        7.89640045,  6.01726627,  4.90181732,  2.44109917,  8.14559555,\n",
       "       12.93159199, 13.61501694])"
      ]
     },
     "execution_count": 120,
     "metadata": {},
     "output_type": "execute_result"
    }
   ],
   "source": [
    "np.stack(results.loc[6, 'found NN'])[1]"
   ]
  },
  {
   "cell_type": "code",
   "execution_count": 166,
   "metadata": {},
   "outputs": [],
   "source": [
    "with torch.no_grad():\n",
    "    nbrs = NearestNeighbors(n_neighbors=1, algorithm='brute').fit(features.cpu().numpy())\n",
    "    full_brute_nn = features[nbrs.kneighbors(test_features.cpu().numpy()[:100], return_distance=False)[:, 0]]"
   ]
  },
  {
   "cell_type": "code",
   "execution_count": 168,
   "metadata": {
    "scrolled": false
   },
   "outputs": [
    {
     "data": {
      "image/png": "[encoded data removed]",
      "text/plain": [
       "<Figure size 720x180 with 40 Axes>"
      ]
     },
     "metadata": {
      "needs_background": "light"
     },
     "output_type": "display_data"
    }
   ],
   "source": [
    "fig, axes = plt.subplots(nrows=4, ncols=10, \n",
    "                         sharex=True, sharey=True, figsize=(10, 2.5))\n",
    "\n",
    "img_query = test_features.cpu().detach().numpy()\n",
    "img_brute_nn = brute_nn.reshape(100, -1).cpu().numpy()\n",
    "img_full_brute_nn = full_brute_nn.reshape(100, -1).cpu().numpy()\n",
    "#img_svm_nn = model.cpu().decode(torch.Tensor(np.stack(results.loc[6, 'found NN'])))\n",
    "\n",
    "for i in range(10):\n",
    "    for ax, img in zip(axes, [img_query, img_full_brute_nn, img_brute_nn, img_svm_nn]):\n",
    "        ax[i].imshow(img[i].reshape((image_width, image_width)), cmap='binary')"
   ]
  },
  {
   "cell_type": "code",
   "execution_count": null,
   "metadata": {},
   "outputs": [],
   "source": []
  }
 ],
 "metadata": {
  "kernelspec": {
   "display_name": "Python 3",
   "language": "python",
   "name": "python3"
  },
  "language_info": {
   "codemirror_mode": {
    "name": "ipython",
    "version": 3
   },
   "file_extension": ".py",
   "mimetype": "text/x-python",
   "name": "python",
   "nbconvert_exporter": "python",
   "pygments_lexer": "ipython3",
   "version": "3.8.2"
  }
 },
 "nbformat": 4,
 "nbformat_minor": 4
}
