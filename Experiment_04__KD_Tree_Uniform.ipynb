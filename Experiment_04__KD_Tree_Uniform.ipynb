{
 "cells": [
  {
   "cell_type": "code",
   "execution_count": 1,
   "id": "b5c70f01",
   "metadata": {},
   "outputs": [],
   "source": [
    "from utils import BaselineClassifier, evaluate, nn_accuracy, run\n",
    "import matplotlib.pyplot as plt\n",
    "import pandas as pd\n",
    "from tqdm.notebook import tqdm"
   ]
  },
  {
   "cell_type": "code",
   "execution_count": 2,
   "id": "091c905d",
   "metadata": {},
   "outputs": [],
   "source": [
    "%load_ext autoreload\n",
    "%autoreload 2"
   ]
  },
  {
   "cell_type": "code",
   "execution_count": 3,
   "id": "fe2e2071",
   "metadata": {},
   "outputs": [],
   "source": [
    "import warnings\n",
    "warnings.filterwarnings('ignore')"
   ]
  },
  {
   "cell_type": "code",
   "execution_count": 4,
   "id": "73216421",
   "metadata": {},
   "outputs": [],
   "source": [
    "results = []"
   ]
  },
  {
   "cell_type": "code",
   "execution_count": 5,
   "id": "c7c45a0b",
   "metadata": {},
   "outputs": [],
   "source": [
    "ns = [5000, 10000, 30000, 50000]"
   ]
  },
  {
   "cell_type": "code",
   "execution_count": null,
   "id": "001e3f88",
   "metadata": {},
   "outputs": [],
   "source": [
    "for n in tqdm(ns):\n",
    "    for seed in tqdm(range(5)):\n",
    "        result, _ = run(n_samples=n, \n",
    "                        n_features=20, \n",
    "                        n_clusters=1,\n",
    "                        cluster_std=1.0,\n",
    "                        k=int(n/1000),\n",
    "                        n_test=100, \n",
    "                        random_seed=seed, \n",
    "                        kd_tree=True)\n",
    "        results.append(result)"
   ]
  },
  {
   "cell_type": "code",
   "execution_count": 7,
   "id": "483d3770",
   "metadata": {},
   "outputs": [],
   "source": [
    "pd.DataFrame(results).to_csv('kd_tree_uniform_all.csv')"
   ]
  },
  {
   "cell_type": "code",
   "execution_count": null,
   "id": "597b12b9",
   "metadata": {},
   "outputs": [],
   "source": []
  }
 ],
 "metadata": {
  "kernelspec": {
   "display_name": "Python 3 (ipykernel)",
   "language": "python",
   "name": "python3"
  },
  "language_info": {
   "codemirror_mode": {
    "name": "ipython",
    "version": 3
   },
   "file_extension": ".py",
   "mimetype": "text/x-python",
   "name": "python",
   "nbconvert_exporter": "python",
   "pygments_lexer": "ipython3",
   "version": "3.9.1"
  }
 },
 "nbformat": 4,
 "nbformat_minor": 5
}
